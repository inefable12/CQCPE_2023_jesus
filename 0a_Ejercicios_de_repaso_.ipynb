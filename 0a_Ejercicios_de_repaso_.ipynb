{
  "nbformat": 4,
  "nbformat_minor": 0,
  "metadata": {
    "colab": {
      "provenance": [],
      "authorship_tag": "ABX9TyPJQF7OQOIumibh0jTcqsQZ",
      "include_colab_link": true
    },
    "kernelspec": {
      "name": "python3",
      "display_name": "Python 3"
    },
    "language_info": {
      "name": "python"
    }
  },
  "cells": [
    {
      "cell_type": "markdown",
      "metadata": {
        "id": "view-in-github",
        "colab_type": "text"
      },
      "source": [
        "<a href=\"https://colab.research.google.com/github/inefable12/UNMSM_quimica_2023/blob/main/Ejercicios_de_repaso_G8.ipynb\" target=\"_parent\"><img src=\"https://colab.research.google.com/assets/colab-badge.svg\" alt=\"Open In Colab\"/></a>"
      ]
    },
    {
      "cell_type": "markdown",
      "source": [
        "# 1. Crea una lista de 10 números e imprime los valores negativos en otra lista"
      ],
      "metadata": {
        "id": "_iQKUUQI7NYI"
      }
    },
    {
      "cell_type": "code",
      "source": [
        "type([1,2,3,4])"
      ],
      "metadata": {
        "colab": {
          "base_uri": "https://localhost:8080/"
        },
        "id": "bTxSr4yohS-o",
        "outputId": "ea7b1baf-7044-4427-f591-8ca7a1917422"
      },
      "execution_count": 5,
      "outputs": [
        {
          "output_type": "execute_result",
          "data": {
            "text/plain": [
              "list"
            ]
          },
          "metadata": {},
          "execution_count": 5
        }
      ]
    },
    {
      "cell_type": "code",
      "source": [
        "mi_lista = [1,2,3,4,1,2,3,4,1,100]"
      ],
      "metadata": {
        "id": "lzgadm2NhxR4"
      },
      "execution_count": 20,
      "outputs": []
    },
    {
      "cell_type": "code",
      "source": [
        "2*mi_lista"
      ],
      "metadata": {
        "colab": {
          "base_uri": "https://localhost:8080/"
        },
        "id": "gXUdGlqVkscQ",
        "outputId": "51c7a4ab-3aad-457b-d80e-11ebfc3e5053"
      },
      "execution_count": 21,
      "outputs": [
        {
          "output_type": "execute_result",
          "data": {
            "text/plain": [
              "[1, 2, 3, 4, 1, 2, 3, 4, 1, 100, 1, 2, 3, 4, 1, 2, 3, 4, 1, 100]"
            ]
          },
          "metadata": {},
          "execution_count": 21
        }
      ]
    },
    {
      "cell_type": "code",
      "source": [
        "import numpy as np"
      ],
      "metadata": {
        "id": "tZxzEBgzh8Dj"
      },
      "execution_count": 7,
      "outputs": []
    },
    {
      "cell_type": "code",
      "source": [
        "mis_numeros = np.random.randint(1,20,size=10)"
      ],
      "metadata": {
        "id": "sZoNI0IiiSYz"
      },
      "execution_count": 15,
      "outputs": []
    },
    {
      "cell_type": "code",
      "source": [
        "len(mis_numeros)"
      ],
      "metadata": {
        "colab": {
          "base_uri": "https://localhost:8080/"
        },
        "id": "hV6_cLjWjF-e",
        "outputId": "8e0a2977-e0b4-4ab8-df92-4ffd4ff28b03"
      },
      "execution_count": 13,
      "outputs": [
        {
          "output_type": "execute_result",
          "data": {
            "text/plain": [
              "10"
            ]
          },
          "metadata": {},
          "execution_count": 13
        }
      ]
    },
    {
      "cell_type": "code",
      "source": [
        "mis_numeros"
      ],
      "metadata": {
        "colab": {
          "base_uri": "https://localhost:8080/"
        },
        "id": "4hkINqtFjF41",
        "outputId": "12539d59-0ffe-4e82-d425-04d95c22a51a"
      },
      "execution_count": 16,
      "outputs": [
        {
          "output_type": "execute_result",
          "data": {
            "text/plain": [
              "array([13,  7, 15, 13, 12, 13,  6, 11, 13, 11])"
            ]
          },
          "metadata": {},
          "execution_count": 16
        }
      ]
    },
    {
      "cell_type": "code",
      "source": [
        "2*mis_numeros"
      ],
      "metadata": {
        "colab": {
          "base_uri": "https://localhost:8080/"
        },
        "id": "KLAOpbiYjF2W",
        "outputId": "fd7c4b9f-d53a-4593-eb4f-46cd0ecbb389"
      },
      "execution_count": 17,
      "outputs": [
        {
          "output_type": "execute_result",
          "data": {
            "text/plain": [
              "array([26, 14, 30, 26, 24, 26, 12, 22, 26, 22])"
            ]
          },
          "metadata": {},
          "execution_count": 17
        }
      ]
    },
    {
      "cell_type": "code",
      "source": [
        "# [lo que quiero | como lo voy a generar]\n",
        "\n",
        "[x*-1 for x in mi_lista]"
      ],
      "metadata": {
        "colab": {
          "base_uri": "https://localhost:8080/"
        },
        "id": "gZui7v5DjFzt",
        "outputId": "47051796-0ae0-4eeb-e133-ce9c5cece95b"
      },
      "execution_count": 24,
      "outputs": [
        {
          "output_type": "execute_result",
          "data": {
            "text/plain": [
              "[-1, -2, -3, -4, -1, -2, -3, -4, -1, -100]"
            ]
          },
          "metadata": {},
          "execution_count": 24
        }
      ]
    },
    {
      "cell_type": "markdown",
      "source": [
        "# 2. Escribe una matriz de 3x3 con números float distintos"
      ],
      "metadata": {
        "id": "g-4ebg569duT"
      }
    },
    {
      "cell_type": "code",
      "source": [
        "numeros = [[2.0,8.11,3.3],\n",
        "           [3.4,2.55,9.1],\n",
        "           [1.2,8.30,0.5]]"
      ],
      "metadata": {
        "id": "4nIjHn6NnSqm"
      },
      "execution_count": 34,
      "outputs": []
    },
    {
      "cell_type": "code",
      "source": [
        "type([[2.0,8.11,3.3],[3,2,9],[1,8,0]])"
      ],
      "metadata": {
        "colab": {
          "base_uri": "https://localhost:8080/"
        },
        "id": "2XRjLQWlmnFG",
        "outputId": "8213bc37-b65c-4900-9b4e-e28a60f1b89a"
      },
      "execution_count": 28,
      "outputs": [
        {
          "output_type": "execute_result",
          "data": {
            "text/plain": [
              "list"
            ]
          },
          "metadata": {},
          "execution_count": 28
        }
      ]
    },
    {
      "cell_type": "code",
      "source": [
        "numeros[2][1]"
      ],
      "metadata": {
        "colab": {
          "base_uri": "https://localhost:8080/"
        },
        "id": "WOwc4PIunKyA",
        "outputId": "592a2e24-7822-46fd-d534-cc179503120e"
      },
      "execution_count": 35,
      "outputs": [
        {
          "output_type": "execute_result",
          "data": {
            "text/plain": [
              "8.3"
            ]
          },
          "metadata": {},
          "execution_count": 35
        }
      ]
    },
    {
      "cell_type": "code",
      "source": [
        "np.random.random_sample((3,3))"
      ],
      "metadata": {
        "colab": {
          "base_uri": "https://localhost:8080/"
        },
        "id": "cC70JQmgn1Vy",
        "outputId": "91538f3c-6d1d-4e93-bfb0-6f312e74d904"
      },
      "execution_count": 36,
      "outputs": [
        {
          "output_type": "execute_result",
          "data": {
            "text/plain": [
              "array([[0.4394605 , 0.80813932, 0.19129644],\n",
              "       [0.49189843, 0.48940562, 0.58136422],\n",
              "       [0.94484526, 0.90192317, 0.62521032]])"
            ]
          },
          "metadata": {},
          "execution_count": 36
        }
      ]
    },
    {
      "cell_type": "markdown",
      "source": [
        "# 3. Crea una matriz A de 3x3 y 2 matrices (B y C) de 3x1 con números enteros distintos y calcula AxB+C"
      ],
      "metadata": {
        "id": "OpfO_Yz1B4kC"
      }
    },
    {
      "cell_type": "code",
      "source": [
        "A = np.random.random_sample((3,3))\n",
        "B = np.random.random_sample((3,1))\n",
        "C = np.random.random_sample((3,1))"
      ],
      "metadata": {
        "id": "A9G2KVQeoTlN"
      },
      "execution_count": 37,
      "outputs": []
    },
    {
      "cell_type": "code",
      "source": [
        "A.shape, B.shape, C.shape"
      ],
      "metadata": {
        "colab": {
          "base_uri": "https://localhost:8080/"
        },
        "id": "D-mrE3LfoTV_",
        "outputId": "04097667-10a3-44c9-e2e9-0edb7dec44d1"
      },
      "execution_count": 41,
      "outputs": [
        {
          "output_type": "execute_result",
          "data": {
            "text/plain": [
              "((3, 3), (3, 1), (3, 1))"
            ]
          },
          "metadata": {},
          "execution_count": 41
        }
      ]
    },
    {
      "cell_type": "code",
      "source": [
        "# La siguiente no es una operación entre matrices\n",
        "A*B+C"
      ],
      "metadata": {
        "colab": {
          "base_uri": "https://localhost:8080/"
        },
        "id": "uUcSPUIjoTSv",
        "outputId": "cd7e6d2a-daff-4be6-f1ba-43bdae590566"
      },
      "execution_count": 50,
      "outputs": [
        {
          "output_type": "execute_result",
          "data": {
            "text/plain": [
              "array([[0.86878739, 1.01255075, 0.62261365],\n",
              "       [1.03867444, 1.26893296, 1.34731037],\n",
              "       [0.69991729, 0.81073851, 0.70418348]])"
            ]
          },
          "metadata": {},
          "execution_count": 50
        }
      ]
    },
    {
      "cell_type": "code",
      "source": [
        "A@B+C"
      ],
      "metadata": {
        "colab": {
          "base_uri": "https://localhost:8080/"
        },
        "id": "gk9SlrVqpxwg",
        "outputId": "cb033565-0066-4eb9-c621-19c7a5cace52"
      },
      "execution_count": 51,
      "outputs": [
        {
          "output_type": "execute_result",
          "data": {
            "text/plain": [
              "array([[2.22482553],\n",
              "       [2.13261678],\n",
              "       [2.10091143]])"
            ]
          },
          "metadata": {},
          "execution_count": 51
        }
      ]
    },
    {
      "cell_type": "code",
      "source": [
        "np.dot(A,B)+C"
      ],
      "metadata": {
        "colab": {
          "base_uri": "https://localhost:8080/"
        },
        "id": "18ufA5O1oTQC",
        "outputId": "129fdfdc-c766-4ea0-988b-dbcacfde4457"
      },
      "execution_count": 52,
      "outputs": [
        {
          "output_type": "execute_result",
          "data": {
            "text/plain": [
              "array([[2.22482553],\n",
              "       [2.13261678],\n",
              "       [2.10091143]])"
            ]
          },
          "metadata": {},
          "execution_count": 52
        }
      ]
    },
    {
      "cell_type": "code",
      "source": [
        "B"
      ],
      "metadata": {
        "colab": {
          "base_uri": "https://localhost:8080/"
        },
        "id": "tg8rgycFo6pH",
        "outputId": "94300cba-1a71-433f-f9e5-afd2e7880f98"
      },
      "execution_count": 45,
      "outputs": [
        {
          "output_type": "execute_result",
          "data": {
            "text/plain": [
              "array([[0.85177757],\n",
              "       [0.98457728],\n",
              "       [0.84116951]])"
            ]
          },
          "metadata": {},
          "execution_count": 45
        }
      ]
    },
    {
      "cell_type": "code",
      "source": [
        "C"
      ],
      "metadata": {
        "colab": {
          "base_uri": "https://localhost:8080/"
        },
        "id": "9LpArDLfo6nT",
        "outputId": "96204be3-4647-4d8f-f7a1-9345a3ca24c1"
      },
      "execution_count": 46,
      "outputs": [
        {
          "output_type": "execute_result",
          "data": {
            "text/plain": [
              "array([[0.20025516],\n",
              "       [0.68972772],\n",
              "       [0.11954312]])"
            ]
          },
          "metadata": {},
          "execution_count": 46
        }
      ]
    },
    {
      "cell_type": "markdown",
      "source": [
        "# 4. Disponer de números enteros desde el 1 hasta el 100 y cambiar los múltiplos de 3 por el string “m3”"
      ],
      "metadata": {
        "id": "O3zelPWUGdBI"
      }
    },
    {
      "cell_type": "code",
      "source": [
        "np.linspace(0,100,100)"
      ],
      "metadata": {
        "id": "Nyq3S5MNsjGL"
      },
      "execution_count": null,
      "outputs": []
    },
    {
      "cell_type": "code",
      "source": [
        "mi_arreglo = np.arange(1,101)\n",
        "mi_arreglo"
      ],
      "metadata": {
        "colab": {
          "base_uri": "https://localhost:8080/"
        },
        "id": "OgU35Ssysj4x",
        "outputId": "35abde8a-4b4b-42df-b084-bcdc80cd9634"
      },
      "execution_count": 58,
      "outputs": [
        {
          "output_type": "execute_result",
          "data": {
            "text/plain": [
              "array([  1,   2,   3,   4,   5,   6,   7,   8,   9,  10,  11,  12,  13,\n",
              "        14,  15,  16,  17,  18,  19,  20,  21,  22,  23,  24,  25,  26,\n",
              "        27,  28,  29,  30,  31,  32,  33,  34,  35,  36,  37,  38,  39,\n",
              "        40,  41,  42,  43,  44,  45,  46,  47,  48,  49,  50,  51,  52,\n",
              "        53,  54,  55,  56,  57,  58,  59,  60,  61,  62,  63,  64,  65,\n",
              "        66,  67,  68,  69,  70,  71,  72,  73,  74,  75,  76,  77,  78,\n",
              "        79,  80,  81,  82,  83,  84,  85,  86,  87,  88,  89,  90,  91,\n",
              "        92,  93,  94,  95,  96,  97,  98,  99, 100])"
            ]
          },
          "metadata": {},
          "execution_count": 58
        }
      ]
    },
    {
      "cell_type": "code",
      "source": [
        "len(mi_arreglo)"
      ],
      "metadata": {
        "colab": {
          "base_uri": "https://localhost:8080/"
        },
        "id": "IBlbXHxjsjDp",
        "outputId": "cc65b940-8a6f-49c2-f718-05ddb7ab4915"
      },
      "execution_count": 59,
      "outputs": [
        {
          "output_type": "execute_result",
          "data": {
            "text/plain": [
              "100"
            ]
          },
          "metadata": {},
          "execution_count": 59
        }
      ]
    },
    {
      "cell_type": "code",
      "source": [
        "mi_arreglo%3"
      ],
      "metadata": {
        "colab": {
          "base_uri": "https://localhost:8080/"
        },
        "id": "6GFBbRJFsjAi",
        "outputId": "47e85366-8cd5-45d0-b1aa-942acf6369c5"
      },
      "execution_count": 62,
      "outputs": [
        {
          "output_type": "execute_result",
          "data": {
            "text/plain": [
              "array([1, 2, 0, 1, 2, 0, 1, 2, 0, 1, 2, 0, 1, 2, 0, 1, 2, 0, 1, 2, 0, 1,\n",
              "       2, 0, 1, 2, 0, 1, 2, 0, 1, 2, 0, 1, 2, 0, 1, 2, 0, 1, 2, 0, 1, 2,\n",
              "       0, 1, 2, 0, 1, 2, 0, 1, 2, 0, 1, 2, 0, 1, 2, 0, 1, 2, 0, 1, 2, 0,\n",
              "       1, 2, 0, 1, 2, 0, 1, 2, 0, 1, 2, 0, 1, 2, 0, 1, 2, 0, 1, 2, 0, 1,\n",
              "       2, 0, 1, 2, 0, 1, 2, 0, 1, 2, 0, 1])"
            ]
          },
          "metadata": {},
          "execution_count": 62
        }
      ]
    },
    {
      "cell_type": "code",
      "source": [
        "mi_arreglo > 97"
      ],
      "metadata": {
        "colab": {
          "base_uri": "https://localhost:8080/"
        },
        "id": "vHAeUcPisi-R",
        "outputId": "cf887bc3-9207-480d-e035-2aeaf4c0bc98"
      },
      "execution_count": 63,
      "outputs": [
        {
          "output_type": "execute_result",
          "data": {
            "text/plain": [
              "array([False, False, False, False, False, False, False, False, False,\n",
              "       False, False, False, False, False, False, False, False, False,\n",
              "       False, False, False, False, False, False, False, False, False,\n",
              "       False, False, False, False, False, False, False, False, False,\n",
              "       False, False, False, False, False, False, False, False, False,\n",
              "       False, False, False, False, False, False, False, False, False,\n",
              "       False, False, False, False, False, False, False, False, False,\n",
              "       False, False, False, False, False, False, False, False, False,\n",
              "       False, False, False, False, False, False, False, False, False,\n",
              "       False, False, False, False, False, False, False, False, False,\n",
              "       False, False, False, False, False, False, False,  True,  True,\n",
              "        True])"
            ]
          },
          "metadata": {},
          "execution_count": 63
        }
      ]
    },
    {
      "cell_type": "code",
      "source": [
        "# llamar algún elemento\n",
        "mi_arreglo[99]"
      ],
      "metadata": {
        "colab": {
          "base_uri": "https://localhost:8080/"
        },
        "id": "BLDfj8KhpMLa",
        "outputId": "63068464-61a4-4d2b-897b-721232581a1c"
      },
      "execution_count": 66,
      "outputs": [
        {
          "output_type": "execute_result",
          "data": {
            "text/plain": [
              "100"
            ]
          },
          "metadata": {},
          "execution_count": 66
        }
      ]
    },
    {
      "cell_type": "code",
      "source": [
        "if mi_arreglo[2]%3==0:\n",
        "  print('sí, es múltiplo de 3')\n",
        "else:\n",
        "  print('no, no es múltiplo de 3')"
      ],
      "metadata": {
        "colab": {
          "base_uri": "https://localhost:8080/"
        },
        "id": "9oIA-1GXsi7H",
        "outputId": "13e0e4a0-6951-47e8-eca1-147d02565cc0"
      },
      "execution_count": 70,
      "outputs": [
        {
          "output_type": "stream",
          "name": "stdout",
          "text": [
            "sí, es múltiplo de 3\n"
          ]
        }
      ]
    },
    {
      "cell_type": "code",
      "source": [
        "for valor in mi_arreglo:\n",
        "  if mi_arreglo[valor-1]%3==0:\n",
        "    print(valor)\n",
        "  else:\n",
        "    print('adios')"
      ],
      "metadata": {
        "id": "4ows3fnzqRGQ"
      },
      "execution_count": null,
      "outputs": []
    },
    {
      "cell_type": "code",
      "source": [
        "# uso de \"append\"\n",
        "lista_valores = []\n",
        "\n",
        "for valor in mi_arreglo:\n",
        "  if mi_arreglo[valor-1]%3==0:\n",
        "    lista_valores.append(valor)"
      ],
      "metadata": {
        "id": "wZIqiU_pqRAR"
      },
      "execution_count": 73,
      "outputs": []
    },
    {
      "cell_type": "code",
      "source": [
        "lista_valores = []\n",
        "\n",
        "for valor in mi_arreglo:\n",
        "  if mi_arreglo[valor-1]%3==0:\n",
        "    lista_valores.append(\"m3\")\n",
        "  else:\n",
        "    lista_valores.append(valor)"
      ],
      "metadata": {
        "id": "q7kfjxV0qQ78"
      },
      "execution_count": 75,
      "outputs": []
    },
    {
      "cell_type": "code",
      "source": [
        "lista_valores"
      ],
      "metadata": {
        "id": "-6_PW3IQsitH"
      },
      "execution_count": null,
      "outputs": []
    },
    {
      "cell_type": "code",
      "source": [
        "[\"m3\" if i%3==0 else i for i in range(1,101)]"
      ],
      "metadata": {
        "id": "usfvJeyVrt-y"
      },
      "execution_count": null,
      "outputs": []
    },
    {
      "cell_type": "markdown",
      "source": [
        "# 5. Recorriendo la matriz A del ejercicio 3, calcular la traza de la matriz transpuesta"
      ],
      "metadata": {
        "id": "vrWo89ffGqu9"
      }
    },
    {
      "cell_type": "code",
      "source": [
        "A"
      ],
      "metadata": {
        "colab": {
          "base_uri": "https://localhost:8080/"
        },
        "id": "HxZ9Kpg4sUBI",
        "outputId": "b802b29f-485a-4dee-d7b7-05955f8799e0"
      },
      "execution_count": 79,
      "outputs": [
        {
          "output_type": "execute_result",
          "data": {
            "text/plain": [
              "array([[0.78486714, 0.95364755, 0.49585538],\n",
              "       [0.35441273, 0.58827808, 0.66788323],\n",
              "       [0.68996101, 0.82170761, 0.69503275]])"
            ]
          },
          "metadata": {},
          "execution_count": 79
        }
      ]
    },
    {
      "cell_type": "code",
      "source": [
        "A[0][0] + A[1][1] + A[2][2]"
      ],
      "metadata": {
        "colab": {
          "base_uri": "https://localhost:8080/"
        },
        "id": "Yyb4iHxpsT8f",
        "outputId": "b61d1218-6f26-447b-bf16-605b0a4bfca0"
      },
      "execution_count": 82,
      "outputs": [
        {
          "output_type": "execute_result",
          "data": {
            "text/plain": [
              "2.068177975737729"
            ]
          },
          "metadata": {},
          "execution_count": 82
        }
      ]
    },
    {
      "cell_type": "code",
      "source": [
        "# imprimir la diagonal\n",
        "for indice,numero in enumerate(A):\n",
        "  print(numero[indice])"
      ],
      "metadata": {
        "colab": {
          "base_uri": "https://localhost:8080/"
        },
        "id": "5544sGeUsT4j",
        "outputId": "9b8a1402-c2ad-4edd-e531-45b8a45fae7c"
      },
      "execution_count": 88,
      "outputs": [
        {
          "output_type": "stream",
          "name": "stdout",
          "text": [
            "0.7848671437147161\n",
            "0.5882780825889086\n",
            "0.6950327494341044\n"
          ]
        }
      ]
    },
    {
      "cell_type": "code",
      "source": [
        "milista = []\n",
        "\n",
        "for indice,numero in enumerate(A):\n",
        "  milista.append(numero[indice])\n",
        "  #print(numero[indice])"
      ],
      "metadata": {
        "id": "2F3077ozsTzy"
      },
      "execution_count": 91,
      "outputs": []
    },
    {
      "cell_type": "code",
      "source": [
        "sum(milista)"
      ],
      "metadata": {
        "colab": {
          "base_uri": "https://localhost:8080/"
        },
        "id": "rJ4PWp1IsTwH",
        "outputId": "2249a28d-3360-47f8-de67-8b1d7985a7f7"
      },
      "execution_count": 92,
      "outputs": [
        {
          "output_type": "execute_result",
          "data": {
            "text/plain": [
              "2.068177975737729"
            ]
          },
          "metadata": {},
          "execution_count": 92
        }
      ]
    },
    {
      "cell_type": "markdown",
      "source": [
        "# 6. Encuentra un autovalor y su autovector, para la matriz D. Puedes ayudarte multiplicando D con las matrices de 2x1 E, F y G\n",
        "\n",
        "Si:\n",
        "\n",
        "D = np.array([[3, 2], [1, 4]])\n",
        "\n",
        "E = np.array([[1,0]])\n",
        "\n",
        "F = np.array([[0,1]])\n",
        "\n",
        "G = np.array([[1,1]])"
      ],
      "metadata": {
        "id": "jWHAAPUfGrN1"
      }
    }
  ]
}